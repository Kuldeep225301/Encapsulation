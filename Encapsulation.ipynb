{
 "cells": [
  {
   "cell_type": "code",
   "execution_count": 4,
   "id": "c3a6ec9a-c5da-48fd-a87d-296a328eb416",
   "metadata": {
    "tags": []
   },
   "outputs": [],
   "source": [
    "class test:\n",
    "     def __init__(self, a,b):\n",
    "        self.a = a\n",
    "        self.b = b"
   ]
  },
  {
   "cell_type": "code",
   "execution_count": 5,
   "id": "1c79f400-852b-4220-8d24-761a1eec03cb",
   "metadata": {
    "tags": []
   },
   "outputs": [],
   "source": [
    "t =test(23,49)"
   ]
  },
  {
   "cell_type": "code",
   "execution_count": 6,
   "id": "6c10a698-cfa9-4fd8-b948-05bb58ad62d3",
   "metadata": {
    "tags": []
   },
   "outputs": [],
   "source": [
    "t.a = 234990"
   ]
  },
  {
   "cell_type": "code",
   "execution_count": 7,
   "id": "40e6737e-5d50-4c7e-9afd-f60db2e6d06b",
   "metadata": {
    "tags": []
   },
   "outputs": [
    {
     "data": {
      "text/plain": [
       "234990"
      ]
     },
     "execution_count": 7,
     "metadata": {},
     "output_type": "execute_result"
    }
   ],
   "source": [
    "t.a"
   ]
  },
  {
   "cell_type": "code",
   "execution_count": 19,
   "id": "1b044375-e2d6-43e2-868c-68ee3a576fcc",
   "metadata": {
    "tags": []
   },
   "outputs": [],
   "source": [
    "class car:\n",
    "    def __init__(self, year, make, model,speed):\n",
    "        self.__year = year\n",
    "        self.__make = make\n",
    "        self.__model = model\n",
    "        self.__speed=0\n",
    "        \n",
    "    def set_speed(self, speed):\n",
    "        self.__speed = 0 if speed<0 else speed\n",
    "    def get_speed(self):\n",
    "        return self.__speed"
   ]
  },
  {
   "cell_type": "code",
   "execution_count": 20,
   "id": "74f0c487-7a90-4dd3-b5af-c3c5d8baa288",
   "metadata": {
    "tags": []
   },
   "outputs": [],
   "source": [
    "c =car(2023, \"Crista\", \"innova\", 120)"
   ]
  },
  {
   "cell_type": "code",
   "execution_count": 21,
   "id": "215a3288-39f9-4f27-9889-4d70be9ac037",
   "metadata": {
    "tags": []
   },
   "outputs": [
    {
     "data": {
      "text/plain": [
       "2023"
      ]
     },
     "execution_count": 21,
     "metadata": {},
     "output_type": "execute_result"
    }
   ],
   "source": [
    "c._car__year"
   ]
  },
  {
   "cell_type": "code",
   "execution_count": 22,
   "id": "543b7106-6e85-4424-9d56-d82668600fcd",
   "metadata": {
    "tags": []
   },
   "outputs": [
    {
     "data": {
      "text/plain": [
       "'innova'"
      ]
     },
     "execution_count": 22,
     "metadata": {},
     "output_type": "execute_result"
    }
   ],
   "source": [
    "c._car__model"
   ]
  },
  {
   "cell_type": "code",
   "execution_count": 23,
   "id": "c93d6d21-3bc1-445a-af5b-f2335dfad100",
   "metadata": {
    "tags": []
   },
   "outputs": [
    {
     "data": {
      "text/plain": [
       "0"
      ]
     },
     "execution_count": 23,
     "metadata": {},
     "output_type": "execute_result"
    }
   ],
   "source": [
    "c._car__speed"
   ]
  },
  {
   "cell_type": "code",
   "execution_count": 24,
   "id": "607e618f-6886-45b7-b150-b15690cf0c22",
   "metadata": {
    "tags": []
   },
   "outputs": [
    {
     "data": {
      "text/plain": [
       "'Crista'"
      ]
     },
     "execution_count": 24,
     "metadata": {},
     "output_type": "execute_result"
    }
   ],
   "source": [
    "c._car__make"
   ]
  },
  {
   "cell_type": "code",
   "execution_count": 25,
   "id": "87643759-8bd7-46a9-9efa-76e60c3065c8",
   "metadata": {
    "tags": []
   },
   "outputs": [],
   "source": [
    "c.set_speed(-89845)"
   ]
  },
  {
   "cell_type": "code",
   "execution_count": 26,
   "id": "7d212298-239f-40c1-8d04-1dbe5b8ddf2b",
   "metadata": {
    "tags": []
   },
   "outputs": [
    {
     "data": {
      "text/plain": [
       "0"
      ]
     },
     "execution_count": 26,
     "metadata": {},
     "output_type": "execute_result"
    }
   ],
   "source": [
    "c.get_speed()"
   ]
  },
  {
   "cell_type": "code",
   "execution_count": 27,
   "id": "05d276dc-ef12-4e20-8f98-c68fa2350b3d",
   "metadata": {
    "tags": []
   },
   "outputs": [],
   "source": [
    "c.set_speed(2349)"
   ]
  },
  {
   "cell_type": "code",
   "execution_count": 28,
   "id": "854295bf-d3b6-468e-8482-b7c5ad07b55b",
   "metadata": {
    "tags": []
   },
   "outputs": [
    {
     "data": {
      "text/plain": [
       "2349"
      ]
     },
     "execution_count": 28,
     "metadata": {},
     "output_type": "execute_result"
    }
   ],
   "source": [
    "c.get_speed()"
   ]
  },
  {
   "cell_type": "code",
   "execution_count": 81,
   "id": "9ba97e75-b7f2-4ce7-a8a8-185a714d8ffc",
   "metadata": {
    "tags": []
   },
   "outputs": [],
   "source": [
    "class bank_acccount:\n",
    "    def __init__(self, balance):\n",
    "        self.__balance = balance\n",
    "        \n",
    "    def deposite(self,amount):\n",
    "        self.__balance = self.__balance+amount\n",
    "        \n",
    "    def withdraw(self,amount):\n",
    "        if self.__balance >= amount:\n",
    "            self.__balance = self.__balance-amount\n",
    "            return True\n",
    "        else :\n",
    "            return False\n",
    "    def get_balance(self):\n",
    "        return self.__balance\n",
    "    "
   ]
  },
  {
   "cell_type": "code",
   "execution_count": 82,
   "id": "dfca9566-1d14-4d3f-abfe-3089b0a39b0a",
   "metadata": {
    "tags": []
   },
   "outputs": [],
   "source": [
    "kuld =  bank_acccount(1000)"
   ]
  },
  {
   "cell_type": "code",
   "execution_count": 83,
   "id": "58d703d2-653a-4dfd-9a79-84365e03f599",
   "metadata": {
    "tags": []
   },
   "outputs": [
    {
     "data": {
      "text/plain": [
       "1000"
      ]
     },
     "execution_count": 83,
     "metadata": {},
     "output_type": "execute_result"
    }
   ],
   "source": [
    "  kuld.get_balance()"
   ]
  },
  {
   "cell_type": "code",
   "execution_count": 84,
   "id": "a38e8bdd-917f-408c-b78d-67802862baac",
   "metadata": {
    "tags": []
   },
   "outputs": [],
   "source": [
    "kuld.deposite(600)"
   ]
  },
  {
   "cell_type": "code",
   "execution_count": 85,
   "id": "b9d7dbd3-321c-4ae2-ae32-478777a11b2e",
   "metadata": {
    "tags": []
   },
   "outputs": [
    {
     "data": {
      "text/plain": [
       "1600"
      ]
     },
     "execution_count": 85,
     "metadata": {},
     "output_type": "execute_result"
    }
   ],
   "source": [
    "kuld.get_balance()"
   ]
  },
  {
   "cell_type": "code",
   "execution_count": 86,
   "id": "2600e76e-b33d-42a4-8c76-f25f4e4550d8",
   "metadata": {
    "tags": []
   },
   "outputs": [],
   "source": [
    "kuld.deposite(904534)"
   ]
  },
  {
   "cell_type": "code",
   "execution_count": 87,
   "id": "59a3eb29-9a32-420a-a3ca-09bf71ff92e7",
   "metadata": {
    "tags": []
   },
   "outputs": [
    {
     "data": {
      "text/plain": [
       "906134"
      ]
     },
     "execution_count": 87,
     "metadata": {},
     "output_type": "execute_result"
    }
   ],
   "source": [
    "kuld.get_balance()"
   ]
  },
  {
   "cell_type": "code",
   "execution_count": 89,
   "id": "7ef8c421-6b82-473c-a8b6-937f7cf574a0",
   "metadata": {
    "tags": []
   },
   "outputs": [
    {
     "data": {
      "text/plain": [
       "True"
      ]
     },
     "execution_count": 89,
     "metadata": {},
     "output_type": "execute_result"
    }
   ],
   "source": [
    "kuld.withdraw(2349)"
   ]
  },
  {
   "cell_type": "code",
   "execution_count": 90,
   "id": "2648a128-537b-4b0a-ab37-e4d63c18010a",
   "metadata": {
    "tags": []
   },
   "outputs": [
    {
     "data": {
      "text/plain": [
       "894762"
      ]
     },
     "execution_count": 90,
     "metadata": {},
     "output_type": "execute_result"
    }
   ],
   "source": [
    "kuld.get_balance()"
   ]
  },
  {
   "cell_type": "code",
   "execution_count": null,
   "id": "e51a6e05-6f62-41ff-a48d-aaa18866dcf6",
   "metadata": {},
   "outputs": [],
   "source": []
  }
 ],
 "metadata": {
  "kernelspec": {
   "display_name": "Python 3 (ipykernel)",
   "language": "python",
   "name": "python3"
  },
  "language_info": {
   "codemirror_mode": {
    "name": "ipython",
    "version": 3
   },
   "file_extension": ".py",
   "mimetype": "text/x-python",
   "name": "python",
   "nbconvert_exporter": "python",
   "pygments_lexer": "ipython3",
   "version": "3.11.5"
  }
 },
 "nbformat": 4,
 "nbformat_minor": 5
}
